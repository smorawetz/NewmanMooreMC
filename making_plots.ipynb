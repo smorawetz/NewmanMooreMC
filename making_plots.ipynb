{
 "cells": [
  {
   "cell_type": "code",
   "execution_count": 31,
   "metadata": {},
   "outputs": [],
   "source": [
    "using DelimitedFiles\n",
    "using Plots\n",
    "using LaTeXStrings\n",
    "using Statistics\n",
    "\n",
    "const autocorr_steps = 100;"
   ]
  },
  {
   "cell_type": "markdown",
   "metadata": {},
   "source": [
    "## Want to add these params somehow\n",
    "\n",
    "params = {\"text.usetex\": True,\n",
    "            \"font.family\": \"serif\",\n",
    "            \"legend.fontsize\": 10,\n",
    "            \"axes.labelsize\": 10,\n",
    "            \"xtick.labelsize\":10,\n",
    "            \"ytick.labelsize\":10,\n",
    "            \"lines.linewidth\":1,\n",
    "            \"patch.edgecolor\": \"black\"\n",
    "         }\n",
    "\n",
    "plt.rcParams.update(params)\n",
    "plt.style.use(\"seaborn-deep\")"
   ]
  },
  {
   "cell_type": "code",
   "execution_count": 32,
   "metadata": {},
   "outputs": [
    {
     "data": {
      "text/plain": [
       "autocorr_array (generic function with 1 method)"
      ]
     },
     "execution_count": 32,
     "metadata": {},
     "output_type": "execute_result"
    }
   ],
   "source": [
    "# Compute autocorrelation times from data\n",
    "\n",
    "function autocorr_array(gamma, stoptime, T, seed, size)\n",
    "    global autocorr_steps\n",
    "    \n",
    "    Mag_array = readdlm(\"stewart_data/L$(size)/gamma$(gamma)_stoptime$(stoptime)_T$(T)_seed$(seed)_mag.dat\")    \n",
    "    \n",
    "    M_t_avg = 0\n",
    "    M_t_var = 0\n",
    "    M_t_M_ti_avg = zeros(autocorr_steps)\n",
    "    M_ti_avg = zeros(autocorr_steps)\n",
    "    M_ti_var = zeros(autocorr_steps)\n",
    "\n",
    "    # Need to define these to calculate running variance\n",
    "    # See https://www.johndcook.com/blog/standard_deviation/\n",
    "    # for algo for calculating running variance\n",
    "\n",
    "    M_t_var_aux = 0\n",
    "    M_ti_var_aux = zeros(autocorr_steps)\n",
    "\n",
    "    autocorr_steps = 100\n",
    "    data_samples = 5000\n",
    "\n",
    "    for t = 1:data_samples - autocorr_steps + 1\n",
    "\n",
    "        M_t_avg += Mag_array[t]\n",
    "\n",
    "        temp_M_t_var_aux = M_t_var_aux\n",
    "        M_t_var_aux = M_t_var_aux + (Mag_array[t] - M_t_var_aux) / t\n",
    "\n",
    "        if t != 1\n",
    "            M_t_var = M_t_var + (Mag_array[t] - temp_M_t_var_aux) * (Mag_array[t] - M_t_var_aux)\n",
    "            end # if\n",
    "\n",
    "        for i = 1:autocorr_steps\n",
    "\n",
    "            M_t_M_ti_avg[i] += Mag_array[t] * Mag_array[t+i-1]\n",
    "            M_ti_avg[i] += Mag_array[t+i-1]\n",
    "\n",
    "            temp_M_ti_var_aux = M_ti_var_aux[i]\n",
    "            M_ti_var_aux[i] = M_ti_var_aux[i] + (Mag_array[t+i-1] - M_ti_var_aux[i]) / t\n",
    "\n",
    "            if t != 1\n",
    "                M_ti_var[i] = M_ti_var[i] + (\n",
    "                    (Mag_array[t+i-1] - temp_M_ti_var_aux) * (Mag_array[t+i-1] - M_ti_var_aux[i]))\n",
    "                end # if\n",
    "\n",
    "            end # i\n",
    "        end # t\n",
    "\n",
    "    # Divide sum by total to get averages\n",
    "    M_t_avg /= data_samples - autocorr_steps + 1\n",
    "    M_ti_avg /= data_samples - autocorr_steps + 1\n",
    "    M_t_M_ti_avg /= data_samples - autocorr_steps + 1\n",
    "\n",
    "    # Need to do the same for variance\n",
    "    M_t_var /= data_samples - autocorr_steps + 1\n",
    "    M_ti_var /= data_samples - autocorr_steps + 1\n",
    "\n",
    "    # Get stdevs with sqrt\n",
    "    M_t_stdev = sqrt(M_t_var)\n",
    "    M_ti_stdev = sqrt.(M_ti_var)\n",
    "    \n",
    "    return (M_t_M_ti_avg .- M_t_avg * M_ti_avg) ./ (M_t_stdev * M_ti_stdev)\n",
    "end"
   ]
  },
  {
   "cell_type": "code",
   "execution_count": 33,
   "metadata": {
    "scrolled": false
   },
   "outputs": [
    {
     "data": {
      "text/plain": [
       "make_autocorr_plot (generic function with 1 method)"
      ]
     },
     "execution_count": 33,
     "metadata": {},
     "output_type": "execute_result"
    }
   ],
   "source": [
    "# Make plot of autocorrelation times across different system sizes\n",
    "\n",
    "function make_autocorr_plot(gamma, stoptime, T, seed, system_sizes)\n",
    "    time_array = 0:autocorr_steps - 1\n",
    "    autocorr_arrays = zeros(length(system_sizes), autocorr_steps)\n",
    "\n",
    "    for i in 1:length(system_sizes)\n",
    "        autocorr = autocorr_array(gamma, stoptime, T, seed, system_sizes[i])\n",
    "        autocorr_arrays[i, :] = autocorr\n",
    "    end\n",
    "\n",
    "    plot(time_array, autocorr_arrays[1, :], label = \"L = 63\")\n",
    "    plot!(time_array, autocorr_arrays[2, :], label = \"L = 64\")\n",
    "    plot!(time_array, autocorr_arrays[3, :], label = \"L = 65\")\n",
    "\n",
    "    savefig(\"stewart_data/plots/mag_autocorr_seed$(seed).png\")\n",
    "    \n",
    "end"
   ]
  },
  {
   "cell_type": "code",
   "execution_count": 34,
   "metadata": {
    "scrolled": false
   },
   "outputs": [],
   "source": [
    "system_sizes = [63, 64, 65]\n",
    "\n",
    "for seed in [1234, 1111, 2222]\n",
    "    make_autocorr_plot(0.01, 200, 0.135335, seed, system_sizes)\n",
    "end"
   ]
  },
  {
   "cell_type": "code",
   "execution_count": 35,
   "metadata": {
    "scrolled": false
   },
   "outputs": [
    {
     "data": {
      "text/plain": [
       "make_autocorr_subplots (generic function with 1 method)"
      ]
     },
     "execution_count": 35,
     "metadata": {},
     "output_type": "execute_result"
    }
   ],
   "source": [
    "# Make subplots of magnetization autocorrelation\n",
    "\n",
    "function make_autocorr_subplots(gamma, stoptime, T, seeds, system_sizes)\n",
    "    time_array = 0:autocorr_steps - 1\n",
    "    autocorr_arrays = zeros(length(system_sizes) * length(seeds), autocorr_steps)\n",
    "\n",
    "    len_sizes = length(system_sizes)\n",
    "    len_seeds = length(seeds)\n",
    "    \n",
    "    for i in 1:len_sizes\n",
    "        for j in 1:len_seeds\n",
    "            autocorr = autocorr_array(gamma, stoptime, T, seeds[j], system_sizes[i])\n",
    "            autocorr_arrays[len_sizes * (j - 1) + i, :] = autocorr\n",
    "        end\n",
    "    end\n",
    "    \n",
    "    time_2d_array = repeat(time_array, 1, len_seeds)\n",
    "    \n",
    "    plot(time_2d_array, autocorr_arrays[1:len_sizes:len_sizes * len_seeds, :]',\n",
    "        label = \"L = 63\", layout=(len_seeds, 1))\n",
    "    plot!(time_2d_array, autocorr_arrays[2:len_sizes:len_sizes * len_seeds, :]',\n",
    "        label = \"L = 64\", layout=(len_seeds, 1))\n",
    "    plot!(time_2d_array, autocorr_arrays[3:len_sizes:len_sizes * len_seeds, :]',\n",
    "        label = \"L = 65\", layout=(len_seeds, 1))\n",
    "\n",
    "    savefig(\"stewart_data/plots/mag_autocorr_all_seeds.png\")\n",
    "    \n",
    "end"
   ]
  },
  {
   "cell_type": "code",
   "execution_count": 36,
   "metadata": {
    "scrolled": false
   },
   "outputs": [],
   "source": [
    "system_sizes = [63, 64, 65]\n",
    "seeds = [1234, 1111, 2222]\n",
    "\n",
    "make_autocorr_subplots(0.01, 200, 0.135335, seeds, system_sizes)"
   ]
  },
  {
   "cell_type": "code",
   "execution_count": 37,
   "metadata": {},
   "outputs": [
    {
     "data": {
      "text/plain": [
       "make_energy_plot (generic function with 1 method)"
      ]
     },
     "execution_count": 37,
     "metadata": {},
     "output_type": "execute_result"
    }
   ],
   "source": [
    "# Make plot of MC energy vs. temperature across different system sizes\n",
    "\n",
    "function make_energy_plot(gamma, stoptime, seed, system_sizes)\n",
    "    energy_arrays = zeros(length(system_sizes), stoptime + 1)\n",
    "\n",
    "    for i in 1:length(system_sizes)\n",
    "        size = system_sizes[i]\n",
    "        energy = readdlm(\"stewart_data/L$(size)/gamma$(gamma)_stoptime$(stoptime)_seed$(seed)_energy.dat\")\n",
    "        energy_arrays[i, :] = energy\n",
    "    end\n",
    "\n",
    "    temp_array = readdlm(\"stewart_data/L64/gamma$(gamma)_stoptime$(stoptime)_temperature.dat\")\n",
    "\n",
    "    plot(temp_array', energy_arrays[1, :], label = \"L = 63\")\n",
    "    plot!(temp_array', energy_arrays[2, :], label = \"L = 64\")\n",
    "    plot!(temp_array', energy_arrays[3, :], label = \"L = 65\")\n",
    "\n",
    "    savefig(\"stewart_data/plots/energy_vs_temp_seed$(seed).png\")\n",
    "end"
   ]
  },
  {
   "cell_type": "code",
   "execution_count": 38,
   "metadata": {},
   "outputs": [],
   "source": [
    "system_sizes = [63, 64, 65]\n",
    "\n",
    "for seed in [1234, 1111, 2222]\n",
    "    make_energy_plot(0.01, 200, 1234, system_sizes)\n",
    "end"
   ]
  },
  {
   "cell_type": "code",
   "execution_count": 39,
   "metadata": {},
   "outputs": [
    {
     "data": {
      "text/plain": [
       "make_mag_var_plots (generic function with 1 method)"
      ]
     },
     "execution_count": 39,
     "metadata": {},
     "output_type": "execute_result"
    }
   ],
   "source": [
    "# Make plot of variance in mag autocorrelations\n",
    "\n",
    "function make_mag_var_plots(gamma, stoptime, T, seeds, system_sizes)\n",
    "    time_array = 0:autocorr_steps - 1\n",
    "    autocorr_arrays = zeros(length(system_sizes) * length(seeds), autocorr_steps)\n",
    "    variance_arrays = zeros(length(system_sizes), autocorr_steps)\n",
    "\n",
    "    for i in 1:length(system_sizes)\n",
    "        for j in 1:length(seeds)\n",
    "            autocorr = autocorr_array(gamma, stoptime, T, seeds[j], system_sizes[i])\n",
    "            autocorr_arrays[length(system_sizes) * (j - 1) + i, :] = autocorr\n",
    "        end\n",
    "        same_size_autocorrs = autocorr_arrays[i:length(system_sizes):(length(system_sizes) * length(seeds)), :]\n",
    "        variance_arrays[i, :] = var(same_size_autocorrs, dims=1)\n",
    "    end\n",
    "\n",
    "    plot(time_array, variance_arrays[1, :], label = \"L = 63\")\n",
    "    plot!(time_array, variance_arrays[2, :], label = \"L = 64\")\n",
    "    plot!(time_array, variance_arrays[3, :], label = \"L = 65\")\n",
    "\n",
    "    savefig(\"stewart_data/plots/mag_autocorr_variance.png\")\n",
    "    \n",
    "end"
   ]
  },
  {
   "cell_type": "code",
   "execution_count": 40,
   "metadata": {},
   "outputs": [
    {
     "ename": "ArgumentError",
     "evalue": "ArgumentError: Cannot open 'stewart_data/L63/gamma0.01_stoptime200_T0.135335_seed99_mag.dat': not a file",
     "output_type": "error",
     "traceback": [
      "ArgumentError: Cannot open 'stewart_data/L63/gamma0.01_stoptime200_T0.135335_seed99_mag.dat': not a file",
      "",
      "Stacktrace:",
      " [1] readdlm_auto(::String, ::Char, ::Type{T} where T, ::Char, ::Bool; opts::Base.Iterators.Pairs{Union{},Union{},Tuple{},NamedTuple{(),Tuple{}}}) at /build/julia-98cBbp/julia-1.4.1+dfsg/usr/share/julia/stdlib/v1.4/DelimitedFiles/src/DelimitedFiles.jl:233",
      " [2] readdlm_auto at /build/julia-98cBbp/julia-1.4.1+dfsg/usr/share/julia/stdlib/v1.4/DelimitedFiles/src/DelimitedFiles.jl:233 [inlined]",
      " [3] #readdlm#5 at /build/julia-98cBbp/julia-1.4.1+dfsg/usr/share/julia/stdlib/v1.4/DelimitedFiles/src/DelimitedFiles.jl:170 [inlined]",
      " [4] readdlm at /build/julia-98cBbp/julia-1.4.1+dfsg/usr/share/julia/stdlib/v1.4/DelimitedFiles/src/DelimitedFiles.jl:170 [inlined]",
      " [5] #readdlm#3 at /build/julia-98cBbp/julia-1.4.1+dfsg/usr/share/julia/stdlib/v1.4/DelimitedFiles/src/DelimitedFiles.jl:118 [inlined]",
      " [6] readdlm at /build/julia-98cBbp/julia-1.4.1+dfsg/usr/share/julia/stdlib/v1.4/DelimitedFiles/src/DelimitedFiles.jl:118 [inlined]",
      " [7] autocorr_array(::Float64, ::Int64, ::Float64, ::Int64, ::Int64) at ./In[32]:6",
      " [8] make_mag_var_plots(::Float64, ::Int64, ::Float64, ::UnitRange{Int64}, ::Array{Int64,1}) at ./In[39]:10",
      " [9] top-level scope at In[40]:3"
     ]
    }
   ],
   "source": [
    "seeds = 1:99\n",
    "system_sizes = [63, 64, 65]\n",
    "\n",
    "make_mag_var_plots(0.01, 200, 0.135335, seeds, system_sizes)"
   ]
  },
  {
   "cell_type": "code",
   "execution_count": null,
   "metadata": {},
   "outputs": [],
   "source": []
  }
 ],
 "metadata": {
  "kernelspec": {
   "display_name": "Julia 1.4.1",
   "language": "julia",
   "name": "julia-1.4"
  },
  "language_info": {
   "file_extension": ".jl",
   "mimetype": "application/julia",
   "name": "julia",
   "version": "1.4.1"
  }
 },
 "nbformat": 4,
 "nbformat_minor": 4
}
