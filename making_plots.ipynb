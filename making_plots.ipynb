{
 "cells": [
  {
   "cell_type": "code",
   "execution_count": 1,
   "metadata": {},
   "outputs": [],
   "source": [
    "using DelimitedFiles\n",
    "using Plots\n",
    "using LaTeXStrings\n",
    "\n",
    "const autocorr_steps = 100;"
   ]
  },
  {
   "cell_type": "markdown",
   "metadata": {},
   "source": [
    "## Want to add these params somehow\n",
    "\n",
    "params = {\"text.usetex\": True,\n",
    "            \"font.family\": \"serif\",\n",
    "            \"legend.fontsize\": 10,\n",
    "            \"axes.labelsize\": 10,\n",
    "            \"xtick.labelsize\":10,\n",
    "            \"ytick.labelsize\":10,\n",
    "            \"lines.linewidth\":1,\n",
    "            \"patch.edgecolor\": \"black\"\n",
    "         }\n",
    "\n",
    "plt.rcParams.update(params)\n",
    "plt.style.use(\"seaborn-deep\")"
   ]
  },
  {
   "cell_type": "code",
   "execution_count": 2,
   "metadata": {},
   "outputs": [
    {
     "data": {
      "text/plain": [
       "autocorr_array (generic function with 1 method)"
      ]
     },
     "execution_count": 2,
     "metadata": {},
     "output_type": "execute_result"
    }
   ],
   "source": [
    "# Compute autocorrelation times from data\n",
    "\n",
    "function autocorr_array(gamma, stoptime, T, seed, size)\n",
    "    global autocorr_steps\n",
    "    \n",
    "    Mag_array = readdlm(\"stewart_data/L$(size)/gamma$(gamma)_stoptime$(stoptime)_T$(T)_seed$(seed)_mag.dat\")    \n",
    "    \n",
    "    M_t_avg = 0\n",
    "    M_t_var = 0\n",
    "    M_t_M_ti_avg = zeros(autocorr_steps)\n",
    "    M_ti_avg = zeros(autocorr_steps)\n",
    "    M_ti_var = zeros(autocorr_steps)\n",
    "\n",
    "    # Need to define these to calculate running variance\n",
    "    # See https://www.johndcook.com/blog/standard_deviation/\n",
    "    # for algo for calculating running variance\n",
    "\n",
    "    M_t_var_aux = 0\n",
    "    M_ti_var_aux = zeros(autocorr_steps)\n",
    "\n",
    "    autocorr_steps = 100\n",
    "    data_samples = 5000\n",
    "\n",
    "    for t = 1:data_samples - autocorr_steps + 1\n",
    "\n",
    "        M_t_avg += Mag_array[t]\n",
    "\n",
    "        temp_M_t_var_aux = M_t_var_aux\n",
    "        M_t_var_aux = M_t_var_aux + (Mag_array[t] - M_t_var_aux) / t\n",
    "\n",
    "        if t != 1\n",
    "            M_t_var = M_t_var + (Mag_array[t] - temp_M_t_var_aux) * (Mag_array[t] - M_t_var_aux)\n",
    "            end # if\n",
    "\n",
    "        for i = 1:autocorr_steps\n",
    "\n",
    "            M_t_M_ti_avg[i] += Mag_array[t] * Mag_array[t+i-1]\n",
    "            M_ti_avg[i] += Mag_array[t+i-1]\n",
    "\n",
    "            temp_M_ti_var_aux = M_ti_var_aux[i]\n",
    "            M_ti_var_aux[i] = M_ti_var_aux[i] + (Mag_array[t+i-1] - M_ti_var_aux[i]) / t\n",
    "\n",
    "            if t != 1\n",
    "                M_ti_var[i] = M_ti_var[i] + (\n",
    "                    (Mag_array[t+i-1] - temp_M_ti_var_aux) * (Mag_array[t+i-1] - M_ti_var_aux[i]))\n",
    "                end # if\n",
    "\n",
    "            end # i\n",
    "        end # t\n",
    "\n",
    "    # Divide sum by total to get averages\n",
    "    M_t_avg /= data_samples - autocorr_steps + 1\n",
    "    M_ti_avg /= data_samples - autocorr_steps + 1\n",
    "    M_t_M_ti_avg /= data_samples - autocorr_steps + 1\n",
    "\n",
    "    # Need to do the same for variance\n",
    "    M_t_var /= data_samples - autocorr_steps + 1\n",
    "    M_ti_var /= data_samples - autocorr_steps + 1\n",
    "\n",
    "    # Get stdevs with sqrt\n",
    "    M_t_stdev = sqrt(M_t_var)\n",
    "    M_ti_stdev = sqrt.(M_ti_var)\n",
    "    \n",
    "    return (M_t_M_ti_avg .- M_t_avg * M_ti_avg) ./ (M_t_stdev * M_ti_stdev)\n",
    "end"
   ]
  },
  {
   "cell_type": "code",
   "execution_count": 3,
   "metadata": {
    "scrolled": false
   },
   "outputs": [],
   "source": [
    "# Make plot of autocorrelation times across different system sizes\n",
    "\n",
    "system_sizes = [63, 64, 65]\n",
    "time_array = 0:autocorr_steps - 1\n",
    "autocorr_arrays = zeros(length(system_sizes), autocorr_steps)\n",
    "\n",
    "for i in 1:length(system_sizes)\n",
    "    autocorr = autocorr_array(0.01, 200, 0.135335, 1234, system_sizes[i])\n",
    "    autocorr_arrays[i, :] = autocorr\n",
    "end\n",
    "\n",
    "plot(time_array, autocorr_arrays[1, :], label = \"L = 63\")\n",
    "plot!(time_array, autocorr_arrays[2, :], label = \"L = 64\")\n",
    "plot!(time_array, autocorr_arrays[3, :], label = \"L = 65\")\n",
    "\n",
    "savefig(\"stewart_data/plots/mag_autocorr_seed1234.png\")"
   ]
  },
  {
   "cell_type": "code",
   "execution_count": 4,
   "metadata": {},
   "outputs": [],
   "source": [
    "# Make plot of autocorrelation times across different system sizes\n",
    "\n",
    "system_sizes = [63, 64, 65]\n",
    "time_array = 0:autocorr_steps - 1\n",
    "autocorr_arrays = zeros(length(system_sizes), autocorr_steps)\n",
    "\n",
    "for i in 1:length(system_sizes)\n",
    "    autocorr = autocorr_array(0.01, 200, 0.135335, 1111, system_sizes[i])\n",
    "    autocorr_arrays[i, :] = autocorr\n",
    "end\n",
    "\n",
    "plot(time_array, autocorr_arrays[1, :], label = \"L = 63\")\n",
    "plot!(time_array, autocorr_arrays[2, :], label = \"L = 64\")\n",
    "plot!(time_array, autocorr_arrays[3, :], label = \"L = 65\")\n",
    "\n",
    "savefig(\"stewart_data/plots/mag_autocorr_seed1111.png\")"
   ]
  },
  {
   "cell_type": "code",
   "execution_count": 5,
   "metadata": {},
   "outputs": [],
   "source": [
    "# Make plot of autocorrelation times across different system sizes\n",
    "\n",
    "system_sizes = [63, 64, 65]\n",
    "time_array = 0:autocorr_steps - 1\n",
    "autocorr_arrays = zeros(length(system_sizes), autocorr_steps)\n",
    "\n",
    "for i in 1:length(system_sizes)\n",
    "    autocorr = autocorr_array(0.01, 200, 0.135335, 2222, system_sizes[i])\n",
    "    autocorr_arrays[i, :] = autocorr\n",
    "end\n",
    "\n",
    "plot(time_array, autocorr_arrays[1, :], label = \"L = 63\")\n",
    "plot!(time_array, autocorr_arrays[2, :], label = \"L = 64\")\n",
    "plot!(time_array, autocorr_arrays[3, :], label = \"L = 65\")\n",
    "\n",
    "savefig(\"stewart_data/plots/mag_autocorr_seed2222.png\")"
   ]
  },
  {
   "cell_type": "code",
   "execution_count": 6,
   "metadata": {},
   "outputs": [],
   "source": [
    "# Make plot of MC energy vs. temperature across different system sizes\n",
    "\n",
    "system_sizes = [63, 64, 65]\n",
    "time_array = 0:autocorr_steps - 1\n",
    "energy_arrays = zeros(length(system_sizes), 201)\n",
    "\n",
    "for i in 1:length(system_sizes)\n",
    "    size = system_sizes[i]\n",
    "    energy = readdlm(\"stewart_data/L$(size)/gamma0.01_stoptime200_seed1234_energy.dat\")\n",
    "    energy_arrays[i, :] = energy\n",
    "end\n",
    "\n",
    "temp_array = readdlm(\"stewart_data/L64/gamma0.01_stoptime200_temperature.dat\")\n",
    "\n",
    "plot(temp_array', energy_arrays[1, :], label = \"L = 63\")\n",
    "plot!(temp_array', energy_arrays[2, :], label = \"L = 64\")\n",
    "plot!(temp_array', energy_arrays[3, :], label = \"L = 65\")\n",
    "\n",
    "savefig(\"stewart_data/plots/energy_vs_temp_seed1234.png\")"
   ]
  },
  {
   "cell_type": "code",
   "execution_count": 7,
   "metadata": {},
   "outputs": [],
   "source": [
    "# Make plot of MC energy vs. temperature across different system sizes\n",
    "\n",
    "system_sizes = [63, 64, 65]\n",
    "time_array = 0:autocorr_steps - 1\n",
    "energy_arrays = zeros(length(system_sizes), 201)\n",
    "\n",
    "for i in 1:length(system_sizes)\n",
    "    size = system_sizes[i]\n",
    "    energy = readdlm(\"stewart_data/L$(size)/gamma0.01_stoptime200_seed1111_energy.dat\")\n",
    "    energy_arrays[i, :] = energy\n",
    "end\n",
    "\n",
    "temp_array = readdlm(\"stewart_data/L64/gamma0.01_stoptime200_temperature.dat\")\n",
    "\n",
    "plot(temp_array', energy_arrays[1, :], label = \"L = 63\")\n",
    "plot!(temp_array', energy_arrays[2, :], label = \"L = 64\")\n",
    "plot!(temp_array', energy_arrays[3, :], label = \"L = 65\")\n",
    "\n",
    "savefig(\"stewart_data/plots/energy_vs_temp_seed1111.png\")"
   ]
  },
  {
   "cell_type": "code",
   "execution_count": 11,
   "metadata": {},
   "outputs": [],
   "source": [
    "# Make plot of MC energy vs. temperature across different system sizes\n",
    "\n",
    "system_sizes = [63, 64, 65]\n",
    "time_array = 0:autocorr_steps - 1\n",
    "energy_arrays = zeros(length(system_sizes), 201)\n",
    "\n",
    "for i in 1:length(system_sizes)\n",
    "    size = system_sizes[i]\n",
    "    energy = readdlm(\"stewart_data/L$(size)/gamma0.01_stoptime200_seed2222_energy.dat\")\n",
    "    energy_arrays[i, :] = energy\n",
    "end\n",
    "\n",
    "temp_array = readdlm(\"stewart_data/L64/gamma0.01_stoptime200_temperature.dat\")\n",
    "\n",
    "plot(temp_array', energy_arrays[1, :], label = \"L = 63\")\n",
    "plot!(temp_array', energy_arrays[2, :], label = \"L = 64\")\n",
    "plot!(temp_array', energy_arrays[3, :], label = \"L = 65\")\n",
    "\n",
    "savefig(\"stewart_data/plots/energy_vs_temp_seed2222.png\")"
   ]
  },
  {
   "cell_type": "code",
   "execution_count": null,
   "metadata": {},
   "outputs": [],
   "source": []
  }
 ],
 "metadata": {
  "kernelspec": {
   "display_name": "Julia 1.4.1",
   "language": "julia",
   "name": "julia-1.4"
  },
  "language_info": {
   "file_extension": ".jl",
   "mimetype": "application/julia",
   "name": "julia",
   "version": "1.4.1"
  }
 },
 "nbformat": 4,
 "nbformat_minor": 4
}
